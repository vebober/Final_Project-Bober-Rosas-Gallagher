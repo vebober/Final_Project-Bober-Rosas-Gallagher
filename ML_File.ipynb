{
 "cells": [
  {
   "cell_type": "code",
   "execution_count": 2,
   "metadata": {},
   "outputs": [],
   "source": [
    "import matplotlib.pyplot as plt\n",
    "import numpy as np\n",
    "import pandas as pd\n",
    "import matplotlib.image as mpimg \n"
   ]
  },
  {
   "cell_type": "code",
   "execution_count": 3,
   "metadata": {},
   "outputs": [],
   "source": [
    "data = pd.read_csv('data/The_Actual_Final_Dataset2.csv')\n",
    "data.fillna('No')\n",
    "data.head()\n",
    "data= data[data['Inflation_Adj_Cost1'] != 0]\n"
   ]
  },
  {
   "cell_type": "code",
   "execution_count": 4,
   "metadata": {
    "scrolled": true
   },
   "outputs": [
    {
     "data": {
      "text/plain": [
       "Index(['parcel', 'bedrooms', 'bathrooms', 'living_area', 'total_value',\n",
       "       'half_baths', 'construction_quality', 'condition_score', 'garage_type',\n",
       "       'finished_basement_No', 'total_land', 'zipcodes', 'house_age',\n",
       "       'Inflation_Adj_Cost1', 'Inflation_Adj_Cost2'],\n",
       "      dtype='object')"
      ]
     },
     "execution_count": 4,
     "metadata": {},
     "output_type": "execute_result"
    }
   ],
   "source": [
    "data.columns"
   ]
  },
  {
   "cell_type": "code",
   "execution_count": 5,
   "metadata": {
    "scrolled": true
   },
   "outputs": [],
   "source": [
    "#data2 = pd.get_dummies(data)\n",
    "#data2.head()\n",
    "#data2['Inflation_Adj_Cost1']= data2['Inflation_Adj_Cost1'].astype('int')\n",
    "#data2['Inflation_Adj_Cost2']= data2['Inflation_Adj_Cost2'].astype('int')\n",
    "\n",
    "\n",
    "#data2"
   ]
  },
  {
   "cell_type": "code",
   "execution_count": 6,
   "metadata": {},
   "outputs": [
    {
     "name": "stdout",
     "output_type": "stream",
     "text": [
      "(7988, 10) (7988, 1)\n"
     ]
    }
   ],
   "source": [
    "#Took about total value because that's the whole point of the project\n",
    "\n",
    "X = data[['bedrooms', 'bathrooms', 'half_baths',\n",
    "          'living_area', 'construction_quality',\n",
    "       'condition_score', 'garage_type', 'finished_basement_No', 'total_land', 'house_age']]\n",
    "y = data['Inflation_Adj_Cost1'].values.reshape(-1, 1)\n",
    "print(X.shape, y.shape)"
   ]
  },
  {
   "cell_type": "code",
   "execution_count": 28,
   "metadata": {},
   "outputs": [
    {
     "name": "stdout",
     "output_type": "stream",
     "text": [
      "       bedrooms  bathrooms  half_baths  living_area  construction_quality  \\\n",
      "6781          2          1           0         1054                     5   \n",
      "8895          4          2           1         2066                     6   \n",
      "6991          4          2           1         2844                     7   \n",
      "1336          4          2           1         1524                     6   \n",
      "10802         3          2           1         1683                     6   \n",
      "1546          3          3           1         2997                     8   \n",
      "11125         4          1           1         2764                     6   \n",
      "5476          2          1           0         1001                     4   \n",
      "1765          3          1           0         2062                     5   \n",
      "649           3          1           0         1282                     5   \n",
      "12230         3          1           1         2192                     6   \n",
      "10875         4          2           1         2787                     5   \n",
      "7224          4          2           1         3894                     8   \n",
      "8993          4          2           1         2040                     6   \n",
      "11297         3          1           1         1558                     7   \n",
      "10182         4          3           0         1867                     5   \n",
      "5851          3          1           0         1050                     4   \n",
      "5964          3          1           0         1131                     4   \n",
      "6757          2          2           0         2147                     6   \n",
      "8795          4          1           1         1490                     6   \n",
      "2620          3          1           1         1753                     6   \n",
      "6330          3          1           0         1136                     4   \n",
      "9452          4          2           1         3319                     5   \n",
      "10471         3          2           0         2216                     6   \n",
      "6791          2          2           0         2899                     8   \n",
      "4796          3          1           0         1235                     4   \n",
      "11975         3          2           1         2490                     6   \n",
      "2947          4          1           1         1308                     5   \n",
      "11359         3          2           0          931                     5   \n",
      "2705          4          2           1         2720                     6   \n",
      "...         ...        ...         ...          ...                   ...   \n",
      "3309          4          2           1         2728                     7   \n",
      "10773         3          2           1         1276                     5   \n",
      "182           4          2           1         2487                     6   \n",
      "6009          2          1           0         1324                     4   \n",
      "6612          3          1           1         1386                     5   \n",
      "1058          4          1           1         1914                     5   \n",
      "1253          4          2           1         1396                     6   \n",
      "11901         3          2           1         2128                     6   \n",
      "2023          2          1           0          840                     4   \n",
      "8682          4          1           0         1752                     5   \n",
      "1631          2          1           1         1152                     4   \n",
      "6987          3          2           1         2658                     7   \n",
      "556           3          1           0         1064                     5   \n",
      "5290          4          1           0         1452                     4   \n",
      "6024          3          1           0         1132                     4   \n",
      "7529          4          2           1         3009                     7   \n",
      "6771          2          2           0         2267                     7   \n",
      "10840         3          1           0         1177                     4   \n",
      "8619          4          2           0         2429                     7   \n",
      "1299          3          1           1         1555                     6   \n",
      "5961          3          1           0         1131                     4   \n",
      "8227          3          2           1         1698                     6   \n",
      "971           2          1           0          969                     5   \n",
      "440           2          1           0         1461                     4   \n",
      "2982          2          1           0          958                     5   \n",
      "9670          4          2           1         2325                     6   \n",
      "3372          3          1           0         1362                     5   \n",
      "3340          3          2           0         1223                     6   \n",
      "5095          3          1           1         1568                     4   \n",
      "9331          4          2           1         3533                     8   \n",
      "\n",
      "       condition_score  garage_type  finished_basement_No  total_land  \\\n",
      "6781                 5            2                     1       40100   \n",
      "8895                 5            5                     1       16000   \n",
      "6991                 6            5                     1       17498   \n",
      "1336                 5            5                     1        7315   \n",
      "10802                6            5                     1        7928   \n",
      "1546                 6            5                     2       22351   \n",
      "11125                7            2                     1       37296   \n",
      "5476                 6            2                     2        6250   \n",
      "1765                 6            5                     1        4800   \n",
      "649                  5            5                     2        6950   \n",
      "12230                5            5                     2       15681   \n",
      "10875                6            5                     1       16940   \n",
      "7224                 6            5                     1       17498   \n",
      "8993                 5            5                     1       16200   \n",
      "11297                5            5                     2        9945   \n",
      "10182                6            5                     2       18000   \n",
      "5851                 5            2                     2       10000   \n",
      "5964                 5            2                     2        6500   \n",
      "6757                 5            5                     1        6186   \n",
      "8795                 5            5                     2       17632   \n",
      "2620                 5            5                     2       10170   \n",
      "6330                 5            2                     2       34299   \n",
      "9452                 5            5                     1       20200   \n",
      "10471                6            5                     1       14446   \n",
      "6791                 6            5                     1        6098   \n",
      "4796                 5            2                     1        7535   \n",
      "11975                5            5                     2       12750   \n",
      "2947                 5            2                     2        7250   \n",
      "11359                5            5                     2       10080   \n",
      "2705                 6            5                     1       11264   \n",
      "...                ...          ...                   ...         ...   \n",
      "3309                 6            5                     1       32110   \n",
      "10773                6            5                     2        7200   \n",
      "182                  6            5                     2       12880   \n",
      "6009                 5            2                     2       12900   \n",
      "6612                 5            5                     2       16350   \n",
      "1058                 5            5                     2       10230   \n",
      "1253                 5            5                     2        8000   \n",
      "11901                5            5                     2       13167   \n",
      "2023                 5            5                     2        7950   \n",
      "8682                 5            5                     2       16640   \n",
      "1631                 6            2                     2        6200   \n",
      "6987                 6            5                     1       20734   \n",
      "556                  5            2                     2        6750   \n",
      "5290                 5            2                     2        6750   \n",
      "6024                 5            2                     2        9845   \n",
      "7529                 6            5                     2       25003   \n",
      "6771                 6            5                     1        7667   \n",
      "10840                5            2                     2       40510   \n",
      "8619                 5            5                     1       17346   \n",
      "1299                 6            5                     2        8000   \n",
      "5961                 4            2                     2        6384   \n",
      "8227                 5            5                     1       20180   \n",
      "971                  6            2                     2       11160   \n",
      "440                  5            2                     2        7500   \n",
      "2982                 5            2                     2        9000   \n",
      "9670                 5            5                     1       16679   \n",
      "3372                 5            5                     2        8000   \n",
      "3340                 6            5                     2        8750   \n",
      "5095                 5            5                     2       12870   \n",
      "9331                 6            5                     1       19998   \n",
      "\n",
      "       house_age  \n",
      "6781          78  \n",
      "8895          60  \n",
      "6991          32  \n",
      "1336          69  \n",
      "10802         28  \n",
      "1546          28  \n",
      "11125         97  \n",
      "5476          80  \n",
      "1765          75  \n",
      "649           69  \n",
      "12230         48  \n",
      "10875        120  \n",
      "7224          20  \n",
      "8993          59  \n",
      "11297         57  \n",
      "10182         67  \n",
      "5851          71  \n",
      "5964          68  \n",
      "6757          19  \n",
      "8795          59  \n",
      "2620          57  \n",
      "6330         111  \n",
      "9452          58  \n",
      "10471         65  \n",
      "6791          20  \n",
      "4796          64  \n",
      "11975         46  \n",
      "2947          72  \n",
      "11359         68  \n",
      "2705          52  \n",
      "...          ...  \n",
      "3309          21  \n",
      "10773         71  \n",
      "182           54  \n",
      "6009          66  \n",
      "6612          63  \n",
      "1058          64  \n",
      "1253          71  \n",
      "11901         44  \n",
      "2023          72  \n",
      "8682          64  \n",
      "1631         100  \n",
      "6987          32  \n",
      "556           62  \n",
      "5290         101  \n",
      "6024          64  \n",
      "7529          28  \n",
      "6771          21  \n",
      "10840         67  \n",
      "8619          55  \n",
      "1299          66  \n",
      "5961          68  \n",
      "8227          26  \n",
      "971           65  \n",
      "440           70  \n",
      "2982          61  \n",
      "9670          41  \n",
      "3372          70  \n",
      "3340          69  \n",
      "5095          44  \n",
      "9331          28  \n",
      "\n",
      "[5991 rows x 10 columns]\n"
     ]
    }
   ],
   "source": [
    "# Split the data into training and testing\n",
    "\n",
    "### BEGIN SOLUTION\n",
    "from sklearn.model_selection import train_test_split\n",
    "\n",
    "X_train, X_test, y_train, y_test = train_test_split(X, y, random_state=43)\n",
    "### END SOLUTION\n",
    "print(X_train)"
   ]
  },
  {
   "cell_type": "code",
   "execution_count": 29,
   "metadata": {},
   "outputs": [],
   "source": [
    "from sklearn.preprocessing import StandardScaler\n",
    "\n",
    "# Create a StandardScater model and fit it to the training data\n",
    "\n",
    "### BEGIN SOLUTION\n",
    "X_scaler = StandardScaler().fit(X_train)\n",
    "y_scaler = StandardScaler().fit(y_train)\n",
    "### END SOLUTION'"
   ]
  },
  {
   "cell_type": "code",
   "execution_count": 30,
   "metadata": {},
   "outputs": [
    {
     "name": "stdout",
     "output_type": "stream",
     "text": [
      "[[-1.69890686 -0.74858215 -1.02064026 ... -1.48277168  1.98187868\n",
      "   0.73215829]\n",
      " [ 1.03568503  0.76602631  0.77514705 ... -1.48277168  0.10219825\n",
      "  -0.08883897]\n",
      " [ 1.03568503  0.76602631  0.77514705 ... -1.48277168  0.21903482\n",
      "  -1.36594582]\n",
      " ...\n",
      " [-0.33161092  0.76602631 -1.02064026 ...  0.67441267 -0.46326578\n",
      "   0.32165966]\n",
      " [-0.33161092 -0.74858215  0.77514705 ...  0.67441267 -0.14192622\n",
      "  -0.81861431]\n",
      " [ 1.03568503  0.76602631  0.77514705 ... -1.48277168  0.41402241\n",
      "  -1.54838965]]\n"
     ]
    }
   ],
   "source": [
    "# Transform the training and testing data using the X_scaler and y_scaler models\n",
    "\n",
    "### BEGIN SOLUTION\n",
    "X_train_scaled = X_scaler.transform(X_train)\n",
    "X_test_scaled = X_scaler.transform(X_test)\n",
    "y_train_scaled = y_scaler.transform(y_train)\n",
    "y_test_scaled = y_scaler.transform(y_test)\n",
    "### END SOLUTION\n",
    "print(X_train_scaled)"
   ]
  },
  {
   "cell_type": "code",
   "execution_count": 31,
   "metadata": {},
   "outputs": [
    {
     "data": {
      "text/plain": [
       "LinearRegression(copy_X=True, fit_intercept=True, n_jobs=None, normalize=False)"
      ]
     },
     "execution_count": 31,
     "metadata": {},
     "output_type": "execute_result"
    }
   ],
   "source": [
    "# Create a LinearRegression model and fit it to the scaled training data\n",
    "\n",
    "### BEGIN SOLUTION\n",
    "from sklearn.linear_model import LinearRegression\n",
    "model = LinearRegression()\n",
    "model.fit(X_train_scaled, y_train_scaled)\n",
    "### END SOLUTION"
   ]
  },
  {
   "cell_type": "code",
   "execution_count": 32,
   "metadata": {},
   "outputs": [
    {
     "data": {
      "image/png": "[encoded data removed]",
      "text/plain": [
       "<Figure size 432x288 with 1 Axes>"
      ]
     },
     "metadata": {
      "needs_background": "light"
     },
     "output_type": "display_data"
    }
   ],
   "source": [
    "# Make predictions using the X_test_scaled data\n",
    "# Plot y_test_scaled vs y_test_scaled\n",
    "# Scatter plot y_test_scaled vs predictions\n",
    "\n",
    "### BEGIN SOLUTION\n",
    "predictions = model.predict(X_test_scaled)\n",
    "# model.fit(X_train_scaled, y_train_scaled)\n",
    "plt.scatter(model.predict(X_train_scaled), model.predict(X_train_scaled) - y_train_scaled, c=\"blue\", label=\"Training Data\")\n",
    "plt.scatter(model.predict(X_test_scaled), model.predict(X_test_scaled) - y_test_scaled, c=\"orange\", label=\"Testing Data\")\n",
    "plt.legend()\n",
    "plt.hlines(y=0, xmin=y_test_scaled.min(), xmax=y_test_scaled.max())\n",
    "plt.title(\"Residual Plot\")\n",
    "plt.show()"
   ]
  },
  {
   "cell_type": "code",
   "execution_count": 33,
   "metadata": {},
   "outputs": [
    {
     "name": "stdout",
     "output_type": "stream",
     "text": [
      "MSE: 0.33310814579811243, R2: 0.5851539752631456\n"
     ]
    }
   ],
   "source": [
    "# Used X_test_scaled, y_test_scaled, and model.predict(X_test_scaled) to calculate MSE and R2\n",
    "\n",
    "### BEGIN SOLUTION\n",
    "from sklearn.metrics import mean_squared_error\n",
    "\n",
    "MSE = mean_squared_error(y_test_scaled, predictions)\n",
    "r2 = model.score(X_test_scaled, y_test_scaled)\n",
    "### END SOLUTION\n",
    "\n",
    "print(f\"MSE: {MSE}, R2: {r2}\")"
   ]
  },
  {
   "cell_type": "code",
   "execution_count": 34,
   "metadata": {},
   "outputs": [
    {
     "name": "stdout",
     "output_type": "stream",
     "text": [
      "MSE: 0.3308734145773357, R2: 0.5879370635033726\n"
     ]
    }
   ],
   "source": [
    "# LASSO model\n",
    "# Note: Use an alpha of .01 when creating the model for this activity\n",
    "from sklearn.linear_model import Lasso\n",
    "\n",
    "### BEGIN SOLUTION\n",
    "lasso = Lasso(alpha=.01).fit(X_train_scaled, y_train_scaled)\n",
    "\n",
    "predictions = lasso.predict(X_test_scaled)\n",
    "\n",
    "MSE = mean_squared_error(y_test_scaled, predictions)\n",
    "r2 = lasso.score(X_test_scaled, y_test_scaled)\n",
    "### END SOLUTION\n",
    "\n",
    "print(f\"MSE: {MSE}, R2: {r2}\")"
   ]
  },
  {
   "cell_type": "code",
   "execution_count": 35,
   "metadata": {},
   "outputs": [
    {
     "name": "stdout",
     "output_type": "stream",
     "text": [
      "MSE: 0.33310791427513414, R2: 0.5851542635970948\n"
     ]
    }
   ],
   "source": [
    "# Ridge model\n",
    "# Note: Use an alpha of .01 when creating the model for this activity\n",
    "from sklearn.linear_model import Ridge\n",
    "\n",
    "### BEGIN SOLUTION\n",
    "ridge = Ridge(alpha=.01).fit(X_train_scaled, y_train_scaled)\n",
    "\n",
    "predictions = ridge.predict(X_test_scaled)\n",
    "\n",
    "MSE = mean_squared_error(y_test_scaled, predictions)\n",
    "r2 = ridge.score(X_test_scaled, y_test_scaled)\n",
    "### END SOLUTION\n",
    "\n",
    "print(f\"MSE: {MSE}, R2: {r2}\")"
   ]
  },
  {
   "cell_type": "code",
   "execution_count": 36,
   "metadata": {},
   "outputs": [
    {
     "name": "stdout",
     "output_type": "stream",
     "text": [
      "MSE: 0.33093753809850684, R2: 0.5878572053906679\n"
     ]
    }
   ],
   "source": [
    "# ElasticNet model\n",
    "# Note: Use an alpha of .01 when creating the model for this activity\n",
    "from sklearn.linear_model import ElasticNet\n",
    "\n",
    "### BEGIN SOLUTION\n",
    "elasticnet = ElasticNet(alpha=.01).fit(X_train_scaled, y_train_scaled)\n",
    "\n",
    "predictions = elasticnet.predict(X_test_scaled)\n",
    "\n",
    "MSE = mean_squared_error(y_test_scaled, predictions)\n",
    "r2 = elasticnet.score(X_test_scaled, y_test_scaled)\n",
    "### END SOLUTION\n",
    "\n",
    "print(f\"MSE: {MSE}, R2: {r2}\")"
   ]
  },
  {
   "cell_type": "code",
   "execution_count": 37,
   "metadata": {},
   "outputs": [
    {
     "name": "stdout",
     "output_type": "stream",
     "text": [
      "MSE: 0.33093753809850684, R2: 0.5878572053906679\n"
     ]
    }
   ],
   "source": [
    "from sklearn.linear_model import ElasticNet\n",
    "\n",
    "### BEGIN SOLUTION\n",
    "elasticnet = ElasticNet(alpha=.01).fit(X_train_scaled, y_train_scaled)\n",
    "\n",
    "predictions = elasticnet.predict(X_test_scaled)\n",
    "\n",
    "MSE = mean_squared_error(y_test_scaled, predictions)\n",
    "r2 = elasticnet.score(X_test_scaled, y_test_scaled)\n",
    "### END SOLUTION\n",
    "\n",
    "print(f\"MSE: {MSE}, R2: {r2}\")"
   ]
  },
  {
   "cell_type": "code",
   "execution_count": 38,
   "metadata": {},
   "outputs": [
    {
     "data": {
      "text/plain": [
       "Index(['parcel', 'bedrooms', 'bathrooms', 'living_area', 'total_value',\n",
       "       'half_baths', 'construction_quality', 'condition_score', 'garage_type',\n",
       "       'finished_basement_No', 'total_land', 'zipcodes', 'house_age',\n",
       "       'Inflation_Adj_Cost1', 'Inflation_Adj_Cost2'],\n",
       "      dtype='object')"
      ]
     },
     "execution_count": 38,
     "metadata": {},
     "output_type": "execute_result"
    }
   ],
   "source": [
    "data.columns"
   ]
  },
  {
   "cell_type": "code",
   "execution_count": 39,
   "metadata": {},
   "outputs": [],
   "source": [
    "# 1. bedrooms\n",
    "# 2. bathrooms\n",
    "# 3. half_baths\n",
    "# 4. Living Area\n",
    "# 5. construction_quality\n",
    "# 6. condition_score\n",
    "# 7. garage_type\n",
    "# 8. finished_basement_No \n",
    "# 9. total_land\n",
    "# 10. house_age"
   ]
  },
  {
   "cell_type": "code",
   "execution_count": 41,
   "metadata": {},
   "outputs": [
    {
     "data": {
      "text/plain": [
       "array([211096.29766632])"
      ]
     },
     "execution_count": 41,
     "metadata": {},
     "output_type": "execute_result"
    }
   ],
   "source": [
    "Sample = np.array([[3,1,1,1932,5,6,2,2,10800,71]])\n",
    "SS = X_scaler.transform(Sample)\n",
    "SS\n",
    "Outcome = y_scaler.inverse_transform(elasticnet.predict(SS))\n",
    "\n",
    "Outcome"
   ]
  },
  {
   "cell_type": "code",
   "execution_count": null,
   "metadata": {},
   "outputs": [],
   "source": []
  },
  {
   "cell_type": "markdown",
   "metadata": {},
   "source": [
    "## "
   ]
  }
 ],
 "metadata": {
  "kernelspec": {
   "display_name": "Python 3",
   "language": "python",
   "name": "python3"
  },
  "language_info": {
   "codemirror_mode": {
    "name": "ipython",
    "version": 3
   },
   "file_extension": ".py",
   "mimetype": "text/x-python",
   "name": "python",
   "nbconvert_exporter": "python",
   "pygments_lexer": "ipython3",
   "version": "3.7.3"
  }
 },
 "nbformat": 4,
 "nbformat_minor": 2
}
