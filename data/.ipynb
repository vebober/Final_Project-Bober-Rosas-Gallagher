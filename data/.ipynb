{
 "cells": [
  {
   "cell_type": "code",
   "execution_count": 19,
   "metadata": {},
   "outputs": [],
   "source": [
    "import matplotlib.pyplot as plt\n",
    "import numpy as np\n",
    "import pandas as pd\n",
    "import matplotlib.image as mpimg \n"
   ]
  },
  {
   "cell_type": "code",
   "execution_count": 20,
   "metadata": {},
   "outputs": [],
   "source": [
    "data = pd.read_csv('data/The_Actual_Final_Dataset2.csv')\n",
    "data.fillna('No')\n",
    "data.head()\n",
    "data= data[data['Inflation_Adj_Cost1'] != 0]\n"
   ]
  },
  {
   "cell_type": "code",
   "execution_count": 21,
   "metadata": {
    "scrolled": true
   },
   "outputs": [
    {
     "data": {
      "text/plain": [
       "Index(['parcel', 'bedrooms', 'bathrooms', 'living_area', 'total_value',\n",
       "       'half_baths', 'construction_quality', 'condition_score', 'garage_type',\n",
       "       'finished_basement_No', 'total_land', 'zipcodes', 'house_age',\n",
       "       'Inflation_Adj_Cost1', 'Inflation_Adj_Cost2'],\n",
       "      dtype='object')"
      ]
     },
     "execution_count": 21,
     "metadata": {},
     "output_type": "execute_result"
    }
   ],
   "source": [
    "data.columns"
   ]
  },
  {
   "cell_type": "code",
   "execution_count": 22,
   "metadata": {
    "scrolled": true
   },
   "outputs": [],
   "source": [
    "#data2 = pd.get_dummies(data)\n",
    "#data2.head()\n",
    "#data2['Inflation_Adj_Cost1']= data2['Inflation_Adj_Cost1'].astype('int')\n",
    "#data2['Inflation_Adj_Cost2']= data2['Inflation_Adj_Cost2'].astype('int')\n",
    "\n",
    "\n",
    "#data2"
   ]
  },
  {
   "cell_type": "code",
   "execution_count": 23,
   "metadata": {},
   "outputs": [
    {
     "name": "stdout",
     "output_type": "stream",
     "text": [
      "(7988, 11) (7988, 1)\n"
     ]
    }
   ],
   "source": [
    "#Took about total value because that's the whole point of the project\n",
    "\n",
    "X = data[['bedrooms', 'bathrooms', 'living_area',\n",
    "       'half_baths', 'construction_quality',\n",
    "       'condition_score', 'garage_type', 'finished_basement_No', 'total_land',\n",
    "       'zipcodes', 'house_age']]\n",
    "y = data['Inflation_Adj_Cost1'].values.reshape(-1, 1)\n",
    "print(X.shape, y.shape)"
   ]
  },
  {
   "cell_type": "code",
   "execution_count": 24,
   "metadata": {},
   "outputs": [
    {
     "name": "stdout",
     "output_type": "stream",
     "text": [
      "       bedrooms  bathrooms  living_area  half_baths  construction_quality  \\\n",
      "7229          4          2         2467           1                     7   \n",
      "8430          3          2         2112           0                     5   \n",
      "6081          3          1         1500           1                     4   \n",
      "6620          3          1         1160           0                     5   \n",
      "8616          4          1         2120           2                     7   \n",
      "9618          6          2         4842           2                     7   \n",
      "947           3          1         1468           0                     5   \n",
      "8349          3          1         1788           1                     6   \n",
      "3489          4          2         2162           1                     7   \n",
      "11692         4          1         1440           1                     5   \n",
      "1090          3          1         1320           1                     5   \n",
      "4356          3          1         1314           1                     4   \n",
      "7588          4          3         3854           0                     7   \n",
      "2843          3          2         2767           1                     8   \n",
      "10462         4          2         2016           1                     7   \n",
      "5221          1          1          520           0                     4   \n",
      "7737          3          1         2160           1                     7   \n",
      "5172          3          1         1148           0                     4   \n",
      "4176          3          1         1526           1                     6   \n",
      "467           3          1         1200           0                     5   \n",
      "2632          3          1         1248           0                     5   \n",
      "7056          4          2         2766           1                     7   \n",
      "9425          3          1         1696           1                     5   \n",
      "416           4          1         2030           1                     5   \n",
      "2525          2          1          840           0                     4   \n",
      "4716          3          1         2052           1                     4   \n",
      "6910          3          2         2881           1                     7   \n",
      "8795          4          1         1490           1                     6   \n",
      "7745          3          3         2052           1                     6   \n",
      "6052          3          1         1064           0                     4   \n",
      "...         ...        ...          ...         ...                   ...   \n",
      "7784          4          2         2340           1                     7   \n",
      "8234          3          2         2009           0                     4   \n",
      "3531          4          2         2656           1                     7   \n",
      "10775         3          1         1324           0                     5   \n",
      "11698         3          1         1520           1                     6   \n",
      "8764          3          2         1574           0                     6   \n",
      "3473          4          2         1998           1                     7   \n",
      "1157          5          3         3575           0                     6   \n",
      "11540         4          2         1860           0                     6   \n",
      "2428          3          2         1560           0                     5   \n",
      "180           3          2         1896           0                     7   \n",
      "12076         3          1         1248           1                     6   \n",
      "4319          5          1         1613           1                     6   \n",
      "4730          3          1         1066           0                     4   \n",
      "5187          2          1         1053           0                     4   \n",
      "9709          2          1         1650           0                     5   \n",
      "8698          3          2         1801           0                     6   \n",
      "6788          2          2         2932           0                     6   \n",
      "8274          3          1         1432           1                     6   \n",
      "689           3          1         1452           0                     5   \n",
      "9772          4          2         2446           1                     8   \n",
      "8963          3          2         1963           1                     6   \n",
      "4602          3          1         1134           1                     4   \n",
      "5727          3          1         1638           1                     4   \n",
      "8016          2          1         1008           0                     4   \n",
      "8076          3          1         1299           1                     6   \n",
      "8370          4          2         3080           1                     8   \n",
      "1273          4          1         1744           1                     6   \n",
      "11734         3          1         1832           1                     6   \n",
      "11227         3          1         1560           1                     7   \n",
      "\n",
      "       condition_score  garage_type  finished_basement_No  total_land  \\\n",
      "7229                 6            5                     1       17498   \n",
      "8430                 5            5                     1       64468   \n",
      "6081                 6            2                     2       21900   \n",
      "6620                 5            5                     2       16350   \n",
      "8616                 5            4                     2       17346   \n",
      "9618                 6            5                     1       23650   \n",
      "947                  6            5                     2       10478   \n",
      "8349                 5            5                     2       17064   \n",
      "3489                 6            5                     2       13200   \n",
      "11692                5            5                     2       13500   \n",
      "1090                 6            5                     2        8850   \n",
      "4356                 6            2                     1        7680   \n",
      "7588                 6            5                     1       37614   \n",
      "2843                 7            5                     1        7187   \n",
      "10462                6            5                     2       14630   \n",
      "5221                 6            1                     2        5382   \n",
      "7737                 5            5                     2       16353   \n",
      "5172                 5            2                     2        9000   \n",
      "4176                 5            5                     1       10950   \n",
      "467                  5            2                     2        7850   \n",
      "2632                 6            5                     2       11900   \n",
      "7056                 6            5                     1       17498   \n",
      "9425                 6            5                     2       14625   \n",
      "416                  5            5                     2        7875   \n",
      "2525                 5            5                     2        6550   \n",
      "4716                 6            2                     2        9800   \n",
      "6910                 5            5                     1        6303   \n",
      "8795                 5            5                     2       17632   \n",
      "7745                 6            5                     2       16892   \n",
      "6052                 5            2                     2        7500   \n",
      "...                ...          ...                   ...         ...   \n",
      "7784                 5            5                     2       16160   \n",
      "8234                 5            5                     1       48351   \n",
      "3531                 6            5                     2       10125   \n",
      "10775                6            5                     2        7200   \n",
      "11698                5            5                     2       12800   \n",
      "8764                 5            5                     2       15200   \n",
      "3473                 6            5                     2       11100   \n",
      "1157                 6            2                     2        7750   \n",
      "11540                5            5                     1       15000   \n",
      "2428                 5            5                     1        6240   \n",
      "180                  6            5                     2       12000   \n",
      "12076                5            5                     2       21257   \n",
      "4319                 6            5                     2        9288   \n",
      "4730                 5            2                     2        7370   \n",
      "5187                 5            2                     2        9000   \n",
      "9709                 5            2                     1        9150   \n",
      "8698                 5            3                     2       39772   \n",
      "6788                 6            5                     1       13503   \n",
      "8274                 5            5                     2       16000   \n",
      "689                  5            2                     2        6750   \n",
      "9772                 7            5                     2       14720   \n",
      "8963                 5            5                     2       16080   \n",
      "4602                 5            2                     2        7000   \n",
      "5727                 5            2                     2       10050   \n",
      "8016                 5            2                     2       11300   \n",
      "8076                 5            5                     2       15931   \n",
      "8370                 5            5                     2       22186   \n",
      "1273                 6            5                     2        8000   \n",
      "11734                5            5                     2       11550   \n",
      "11227                5            5                     2       10030   \n",
      "\n",
      "       zipcodes  house_age  \n",
      "7229          3         29  \n",
      "8430          3         72  \n",
      "6081          2         64  \n",
      "6620          3         64  \n",
      "8616          3         54  \n",
      "9618          4         44  \n",
      "947           6         66  \n",
      "8349          3         52  \n",
      "3489          6         54  \n",
      "11692         1         50  \n",
      "1090          6         64  \n",
      "4356          2         73  \n",
      "7588          3         30  \n",
      "2843          6          5  \n",
      "10462         4         54  \n",
      "5221          2         98  \n",
      "7737          3         51  \n",
      "5172          2         64  \n",
      "4176          2         80  \n",
      "467           6         73  \n",
      "2632          6         64  \n",
      "7056          3         32  \n",
      "9425          4         59  \n",
      "416           6         62  \n",
      "2525          6         73  \n",
      "4716          2         98  \n",
      "6910          3         14  \n",
      "8795          3         59  \n",
      "7745          3         52  \n",
      "6052          2         62  \n",
      "...         ...        ...  \n",
      "7784          3         46  \n",
      "8234          3         67  \n",
      "3531          6         50  \n",
      "10775         4         71  \n",
      "11698         1         49  \n",
      "8764          3         61  \n",
      "3473          6         58  \n",
      "1157          6         67  \n",
      "11540         1         48  \n",
      "2428          6         72  \n",
      "180           6         51  \n",
      "12076         5         64  \n",
      "4319          2         63  \n",
      "4730          2         64  \n",
      "5187          2         78  \n",
      "9709          4         70  \n",
      "8698          6         60  \n",
      "6788          3         20  \n",
      "8274          3         53  \n",
      "689           6         76  \n",
      "9772          4         60  \n",
      "8963          3         60  \n",
      "4602          2         66  \n",
      "5727          2         79  \n",
      "8016          3         83  \n",
      "8076          3         60  \n",
      "8370          3         41  \n",
      "1273          6         69  \n",
      "11734         1         54  \n",
      "11227         6         57  \n",
      "\n",
      "[5991 rows x 11 columns]\n"
     ]
    }
   ],
   "source": [
    "# Split the data into training and testing\n",
    "\n",
    "### BEGIN SOLUTION\n",
    "from sklearn.model_selection import train_test_split\n",
    "\n",
    "X_train, X_test, y_train, y_test = train_test_split(X, y, random_state=42)\n",
    "### END SOLUTION\n",
    "print(X_train)"
   ]
  },
  {
   "cell_type": "code",
   "execution_count": 25,
   "metadata": {},
   "outputs": [],
   "source": [
    "from sklearn.preprocessing import StandardScaler\n",
    "\n",
    "# Create a StandardScater model and fit it to the training data\n",
    "\n",
    "### BEGIN SOLUTION\n",
    "X_scaler = StandardScaler().fit(X_train)\n",
    "y_scaler = StandardScaler().fit(y_train)\n",
    "### END SOLUTION'"
   ]
  },
  {
   "cell_type": "code",
   "execution_count": 26,
   "metadata": {},
   "outputs": [
    {
     "name": "stdout",
     "output_type": "stream",
     "text": [
      "[[ 1.03068326  0.78511202  0.79480649 ...  0.22199619 -0.66333322\n",
      "  -1.5351494 ]\n",
      " [-0.3339186   0.78511202  0.34406339 ...  3.90836965 -0.66333322\n",
      "   0.46348832]\n",
      " [-0.3339186  -0.74800601 -0.43299232 ...  0.56748088 -1.23218941\n",
      "   0.09164874]\n",
      " ...\n",
      " [ 1.03068326 -0.74800601 -0.1231858  ... -0.52344079  1.04323534\n",
      "   0.32404848]\n",
      " [-0.3339186  -0.74800601 -0.0114523  ... -0.2448241  -1.8010456\n",
      "  -0.37315073]\n",
      " [-0.3339186  -0.74800601 -0.35681039 ... -0.36411914  1.04323534\n",
      "  -0.23371089]]\n"
     ]
    }
   ],
   "source": [
    "# Transform the training and testing data using the X_scaler and y_scaler models\n",
    "\n",
    "### BEGIN SOLUTION\n",
    "X_train_scaled = X_scaler.transform(X_train)\n",
    "X_test_scaled = X_scaler.transform(X_test)\n",
    "y_train_scaled = y_scaler.transform(y_train)\n",
    "y_test_scaled = y_scaler.transform(y_test)\n",
    "### END SOLUTION\n",
    "print(X_train_scaled)"
   ]
  },
  {
   "cell_type": "code",
   "execution_count": 27,
   "metadata": {},
   "outputs": [
    {
     "data": {
      "text/plain": [
       "LinearRegression(copy_X=True, fit_intercept=True, n_jobs=None, normalize=False)"
      ]
     },
     "execution_count": 27,
     "metadata": {},
     "output_type": "execute_result"
    }
   ],
   "source": [
    "# Create a LinearRegression model and fit it to the scaled training data\n",
    "\n",
    "### BEGIN SOLUTION\n",
    "from sklearn.linear_model import LinearRegression\n",
    "model = LinearRegression()\n",
    "model.fit(X_train_scaled, y_train_scaled)\n",
    "### END SOLUTION"
   ]
  },
  {
   "cell_type": "code",
   "execution_count": 28,
   "metadata": {},
   "outputs": [
    {
     "data": {
      "image/png": "[encoded data removed]",
      "text/plain": [
       "<Figure size 432x288 with 1 Axes>"
      ]
     },
     "metadata": {
      "needs_background": "light"
     },
     "output_type": "display_data"
    }
   ],
   "source": [
    "# Make predictions using the X_test_scaled data\n",
    "# Plot y_test_scaled vs y_test_scaled\n",
    "# Scatter plot y_test_scaled vs predictions\n",
    "\n",
    "### BEGIN SOLUTION\n",
    "predictions = model.predict(X_test_scaled)\n",
    "# model.fit(X_train_scaled, y_train_scaled)\n",
    "plt.scatter(model.predict(X_train_scaled), model.predict(X_train_scaled) - y_train_scaled, c=\"blue\", label=\"Training Data\")\n",
    "plt.scatter(model.predict(X_test_scaled), model.predict(X_test_scaled) - y_test_scaled, c=\"orange\", label=\"Testing Data\")\n",
    "plt.legend()\n",
    "plt.hlines(y=0, xmin=y_test_scaled.min(), xmax=y_test_scaled.max())\n",
    "plt.title(\"Residual Plot\")\n",
    "plt.show()"
   ]
  },
  {
   "cell_type": "code",
   "execution_count": 29,
   "metadata": {},
   "outputs": [
    {
     "name": "stdout",
     "output_type": "stream",
     "text": [
      "MSE: 0.4443193870274427, R2: 0.5874345362972038\n"
     ]
    }
   ],
   "source": [
    "# Used X_test_scaled, y_test_scaled, and model.predict(X_test_scaled) to calculate MSE and R2\n",
    "\n",
    "### BEGIN SOLUTION\n",
    "from sklearn.metrics import mean_squared_error\n",
    "\n",
    "MSE = mean_squared_error(y_test_scaled, predictions)\n",
    "r2 = model.score(X_test_scaled, y_test_scaled)\n",
    "### END SOLUTION\n",
    "\n",
    "print(f\"MSE: {MSE}, R2: {r2}\")"
   ]
  },
  {
   "cell_type": "code",
   "execution_count": 30,
   "metadata": {},
   "outputs": [
    {
     "name": "stdout",
     "output_type": "stream",
     "text": [
      "MSE: 0.4463913478900099, R2: 0.5855106510943593\n"
     ]
    }
   ],
   "source": [
    "# LASSO model\n",
    "# Note: Use an alpha of .01 when creating the model for this activity\n",
    "from sklearn.linear_model import Lasso\n",
    "\n",
    "### BEGIN SOLUTION\n",
    "lasso = Lasso(alpha=.01).fit(X_train_scaled, y_train_scaled)\n",
    "\n",
    "predictions = lasso.predict(X_test_scaled)\n",
    "\n",
    "MSE = mean_squared_error(y_test_scaled, predictions)\n",
    "r2 = lasso.score(X_test_scaled, y_test_scaled)\n",
    "### END SOLUTION\n",
    "\n",
    "print(f\"MSE: {MSE}, R2: {r2}\")"
   ]
  },
  {
   "cell_type": "code",
   "execution_count": 31,
   "metadata": {},
   "outputs": [
    {
     "name": "stdout",
     "output_type": "stream",
     "text": [
      "MSE: 0.4443192719521444, R2: 0.5874346431484807\n"
     ]
    }
   ],
   "source": [
    "# Ridge model\n",
    "# Note: Use an alpha of .01 when creating the model for this activity\n",
    "from sklearn.linear_model import Ridge\n",
    "\n",
    "### BEGIN SOLUTION\n",
    "ridge = Ridge(alpha=.01).fit(X_train_scaled, y_train_scaled)\n",
    "\n",
    "predictions = ridge.predict(X_test_scaled)\n",
    "\n",
    "MSE = mean_squared_error(y_test_scaled, predictions)\n",
    "r2 = ridge.score(X_test_scaled, y_test_scaled)\n",
    "### END SOLUTION\n",
    "\n",
    "print(f\"MSE: {MSE}, R2: {r2}\")"
   ]
  },
  {
   "cell_type": "code",
   "execution_count": 32,
   "metadata": {},
   "outputs": [
    {
     "name": "stdout",
     "output_type": "stream",
     "text": [
      "MSE: 0.4448783271418033, R2: 0.5869155416411165\n"
     ]
    }
   ],
   "source": [
    "# ElasticNet model\n",
    "# Note: Use an alpha of .01 when creating the model for this activity\n",
    "from sklearn.linear_model import ElasticNet\n",
    "\n",
    "### BEGIN SOLUTION\n",
    "elasticnet = ElasticNet(alpha=.01).fit(X_train_scaled, y_train_scaled)\n",
    "\n",
    "predictions = elasticnet.predict(X_test_scaled)\n",
    "\n",
    "MSE = mean_squared_error(y_test_scaled, predictions)\n",
    "r2 = elasticnet.score(X_test_scaled, y_test_scaled)\n",
    "### END SOLUTION\n",
    "\n",
    "print(f\"MSE: {MSE}, R2: {r2}\")"
   ]
  },
  {
   "cell_type": "code",
   "execution_count": 33,
   "metadata": {},
   "outputs": [
    {
     "name": "stdout",
     "output_type": "stream",
     "text": [
      "MSE: 0.4448783271418033, R2: 0.5869155416411165\n"
     ]
    }
   ],
   "source": [
    "from sklearn.linear_model import ElasticNet\n",
    "\n",
    "### BEGIN SOLUTION\n",
    "elasticnet = ElasticNet(alpha=.01).fit(X_train_scaled, y_train_scaled)\n",
    "\n",
    "predictions = elasticnet.predict(X_test_scaled)\n",
    "\n",
    "MSE = mean_squared_error(y_test_scaled, predictions)\n",
    "r2 = elasticnet.score(X_test_scaled, y_test_scaled)\n",
    "### END SOLUTION\n",
    "\n",
    "print(f\"MSE: {MSE}, R2: {r2}\")"
   ]
  },
  {
   "cell_type": "code",
   "execution_count": 34,
   "metadata": {},
   "outputs": [
    {
     "data": {
      "text/plain": [
       "Index(['parcel', 'bedrooms', 'bathrooms', 'living_area', 'total_value',\n",
       "       'half_baths', 'construction_quality', 'condition_score', 'garage_type',\n",
       "       'finished_basement_No', 'total_land', 'zipcodes', 'house_age',\n",
       "       'Inflation_Adj_Cost1', 'Inflation_Adj_Cost2'],\n",
       "      dtype='object')"
      ]
     },
     "execution_count": 34,
     "metadata": {},
     "output_type": "execute_result"
    }
   ],
   "source": [
    "data.columns"
   ]
  },
  {
   "cell_type": "code",
   "execution_count": 35,
   "metadata": {},
   "outputs": [],
   "source": [
    "# 1. bedrooms\n",
    "# 2. bathrooms\n",
    "# 3. living_area\n",
    "# 5. half_baths\n",
    "# 6. construction_quality\n",
    "# 7. condition_score\n",
    "# 8. garage_type\n",
    "# 9. finished_basement_No \n",
    "# 10. total_land\n",
    "# 11. zipcodes\n",
    "# 12. house_age"
   ]
  },
  {
   "cell_type": "code",
   "execution_count": 75,
   "metadata": {},
   "outputs": [
    {
     "data": {
      "text/plain": [
       "array([217774.82777993])"
      ]
     },
     "execution_count": 75,
     "metadata": {},
     "output_type": "execute_result"
    }
   ],
   "source": [
    "Sample = np.array([[3,1,1932,1,5,6,2,2,10800,6,71]])\n",
    "SS = X_scaler.transform(Sample)\n",
    "SS\n",
    "Outcome = y_scaler.inverse_transform(elasticnet.predict(SS))\n",
    "\n",
    "Outcome"
   ]
  },
  {
   "cell_type": "code",
   "execution_count": null,
   "metadata": {},
   "outputs": [],
   "source": []
  },
  {
   "cell_type": "markdown",
   "metadata": {},
   "source": [
    "## "
   ]
  }
 ],
 "metadata": {
  "kernelspec": {
   "display_name": "Python 3",
   "language": "python",
   "name": "python3"
  },
  "language_info": {
   "codemirror_mode": {
    "name": "ipython",
    "version": 3
   },
   "file_extension": ".py",
   "mimetype": "text/x-python",
   "name": "python",
   "nbconvert_exporter": "python",
   "pygments_lexer": "ipython3",
   "version": "3.7.3"
  }
 },
 "nbformat": 4,
 "nbformat_minor": 2
}
